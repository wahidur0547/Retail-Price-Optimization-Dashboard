{
 "cells": [
  {
   "cell_type": "code",
   "execution_count": 7,
   "id": "b92069e4-3cb7-48cd-8d65-9bb38dfcb456",
   "metadata": {
    "scrolled": true
   },
   "outputs": [
    {
     "name": "stderr",
     "output_type": "stream",
     "text": [
      "/opt/anaconda3/lib/python3.11/site-packages/sklearn/cluster/_kmeans.py:870: FutureWarning:\n",
      "\n",
      "The default value of `n_init` will change from 10 to 'auto' in 1.4. Set the value of `n_init` explicitly to suppress the warning\n",
      "\n",
      "/opt/anaconda3/lib/python3.11/site-packages/_plotly_utils/basevalidators.py:106: FutureWarning:\n",
      "\n",
      "The behavior of DatetimeProperties.to_pydatetime is deprecated, in a future version this will return a Series containing python datetime objects instead of an ndarray. To retain the old behavior, call `np.array` on the result\n",
      "\n"
     ]
    },
    {
     "name": "stdout",
     "output_type": "stream",
     "text": [
      "Mean Squared Error: 4395.7113652895305\n"
     ]
    },
    {
     "name": "stderr",
     "output_type": "stream",
     "text": [
      "/opt/anaconda3/lib/python3.11/site-packages/_plotly_utils/basevalidators.py:106: FutureWarning:\n",
      "\n",
      "The behavior of DatetimeProperties.to_pydatetime is deprecated, in a future version this will return a Series containing python datetime objects instead of an ndarray. To retain the old behavior, call `np.array` on the result\n",
      "\n"
     ]
    },
    {
     "data": {
      "text/html": [
       "\n",
       "        <iframe\n",
       "            width=\"100%\"\n",
       "            height=\"650\"\n",
       "            src=\"http://127.0.0.1:8050/\"\n",
       "            frameborder=\"0\"\n",
       "            allowfullscreen\n",
       "            \n",
       "        ></iframe>\n",
       "        "
      ],
      "text/plain": [
       "<IPython.lib.display.IFrame at 0x1444a3e50>"
      ]
     },
     "metadata": {},
     "output_type": "display_data"
    }
   ],
   "source": [
    "import dash\n",
    "import dash_core_components as dcc\n",
    "import dash_html_components as html\n",
    "from dash.dependencies import Input, Output\n",
    "import plotly.express as px\n",
    "import pandas as pd\n",
    "from sklearn.model_selection import train_test_split\n",
    "from sklearn.linear_model import LinearRegression\n",
    "from sklearn.metrics import mean_squared_error\n",
    "\n",
    "# Load the dataset\n",
    "data = pd.read_csv('/Users/wahidurrahman/Downloads/retail_price.csv')\n",
    "\n",
    "# Convert 'month_year' to datetime format for time series analysis\n",
    "data['month_year'] = pd.to_datetime(data['month_year'], format='%d-%m-%Y')\n",
    "\n",
    "# Time Series Data\n",
    "time_series_total_price = data.groupby('month_year')['total_price'].sum().reset_index()\n",
    "time_series_qty = data.groupby('month_year')['qty'].sum().reset_index()\n",
    "\n",
    "# Standardizing the data for clustering\n",
    "from sklearn.preprocessing import StandardScaler\n",
    "from sklearn.cluster import KMeans\n",
    "\n",
    "clustering_data = data[['total_price', 'qty', 'unit_price']]\n",
    "scaler = StandardScaler()\n",
    "clustering_data_scaled = scaler.fit_transform(clustering_data)\n",
    "\n",
    "kmeans = KMeans(n_clusters=3, random_state=42)\n",
    "clusters = kmeans.fit_predict(clustering_data_scaled)\n",
    "data['cluster'] = clusters\n",
    "\n",
    "# Select relevant features for the regression model\n",
    "features = ['qty', 'comp_1', 'comp_2', 'comp_3']\n",
    "target = 'unit_price'\n",
    "\n",
    "# Split the data into training and testing sets\n",
    "X = data[features]\n",
    "y = data[target]\n",
    "X_train, X_test, y_train, y_test = train_test_split(X, y, test_size=0.2, random_state=42)\n",
    "\n",
    "# Train a linear regression model\n",
    "model = LinearRegression()\n",
    "model.fit(X_train, y_train)\n",
    "\n",
    "# Predict the unit prices on the test set\n",
    "y_pred = model.predict(X_test)\n",
    "\n",
    "# Calculate the mean squared error of the predictions\n",
    "mse = mean_squared_error(y_test, y_pred)\n",
    "print(f'Mean Squared Error: {mse}')\n",
    "\n",
    "# Add predictions to the original dataset for visualization\n",
    "data['predicted_unit_price'] = model.predict(data[features])\n",
    "\n",
    "# Initialize the Dash app\n",
    "app = dash.Dash(__name__)\n",
    "\n",
    "app.layout = html.Div([\n",
    "    html.H1(\"Retail Price Optimization Dashboard\", style={'text-align': 'center'}),\n",
    "    \n",
    "    # Time Series Analysis\n",
    "    html.Div([\n",
    "        html.H2(\"Time Series Analysis\"),\n",
    "        dcc.Graph(id='total-price-over-time', figure=px.line(time_series_total_price, x='month_year', y='total_price', title='Total Price Over Time')),\n",
    "        dcc.Graph(id='quantity-sold-over-time', figure=px.line(time_series_qty, x='month_year', y='qty', title='Quantity Sold Over Time')),\n",
    "    ]),\n",
    "    \n",
    "    # Distributions\n",
    "    html.Div([\n",
    "        html.H2(\"Distributions\"),\n",
    "        dcc.Graph(id='total-price-distribution', figure=px.histogram(data, x='total_price', nbins=30, title='Distribution of Total Price', marginal=\"box\")),\n",
    "        dcc.Graph(id='unit-price-distribution', figure=px.histogram(data, x='unit_price', nbins=30, title='Distribution of Unit Price', marginal=\"box\")),\n",
    "    ]),\n",
    "    \n",
    "    # Scatter Plot\n",
    "    html.Div([\n",
    "        html.H2(\"Quantity vs. Total Price\"),\n",
    "        dcc.Graph(id='quantity-vs-total-price', figure=px.scatter(data, x='qty', y='total_price', title='Quantity vs. Total Price')),\n",
    "    ]),\n",
    "    \n",
    "    # Box Plots by Category\n",
    "    html.Div([\n",
    "        html.H2(\"Box Plots by Category\"),\n",
    "        dcc.Graph(id='total-price-by-category', figure=px.box(data, x='total_price', y='product_category_name', title='Total Price by Category')),\n",
    "        dcc.Graph(id='unit-price-by-category', figure=px.box(data, x='unit_price', y='product_category_name', title='Unit Price by Category')),\n",
    "    ]),\n",
    "    \n",
    "    # Customer Segmentation\n",
    "    html.Div([\n",
    "        html.H2(\"Customer Segmentation\"),\n",
    "        dcc.Graph(id='customer-segmentation', figure=px.scatter(data, x='total_price', y='qty', color='cluster', title='Customer Segmentation based on Total Price and Quantity')),\n",
    "    ]),\n",
    "    \n",
    "    # Competitor Analysis\n",
    "    html.Div([\n",
    "        html.H2(\"Competitor Analysis\"),\n",
    "        dcc.Graph(id='competitor-analysis', figure=px.box(data, y=['unit_price', 'comp_1', 'comp_2', 'comp_3'], title='Comparison of Prices with Competitors')),\n",
    "    ]),\n",
    "\n",
    "    # Predicted Prices\n",
    "    html.Div([\n",
    "        html.H2(\"Predicted Unit Prices\"),\n",
    "        dcc.Graph(id='predicted-unit-prices', figure=px.scatter(data, x='qty', y='predicted_unit_price', title='Predicted Unit Prices based on Quantity and Competitor Prices')),\n",
    "    ]),\n",
    "])\n",
    "\n",
    "if __name__ == '__main__':\n",
    "    app.run_server(debug=True)"
   ]
  },
  {
   "cell_type": "code",
   "execution_count": null,
   "id": "65cd17f7-389a-4d87-88ed-baf8d03b909b",
   "metadata": {},
   "outputs": [],
   "source": []
  }
 ],
 "metadata": {
  "kernelspec": {
   "display_name": "Python 3 (ipykernel)",
   "language": "python",
   "name": "python3"
  },
  "language_info": {
   "codemirror_mode": {
    "name": "ipython",
    "version": 3
   },
   "file_extension": ".py",
   "mimetype": "text/x-python",
   "name": "python",
   "nbconvert_exporter": "python",
   "pygments_lexer": "ipython3",
   "version": "3.11.7"
  }
 },
 "nbformat": 4,
 "nbformat_minor": 5
}
